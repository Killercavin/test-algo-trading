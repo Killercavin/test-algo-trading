{
 "cells": [
  {
   "cell_type": "code",
   "execution_count": 1,
   "metadata": {},
   "outputs": [
    {
     "name": "stderr",
     "output_type": "stream",
     "text": [
      "[*********************100%***********************]  1 of 1 completed\n"
     ]
    }
   ],
   "source": [
    "#Fetching the data from yfinance\n",
    "\n",
    "import yfinance as yf\n",
    "import pandas as pd\n",
    "\n",
    "# getting data from yfinance using a function that takes in the stock name and the time period\n",
    "def fetch_stock_data():\n",
    "\n",
    "    # specifying the data types\n",
    "    start = input('Enter the start date in the format YYYY-MM-DD: ')\n",
    "    start = pd.to_datetime(start)\n",
    "    end = input('Enter the end date in the format YYYY-MM-DD: ')\n",
    "    end = pd.to_datetime(end)\n",
    "\n",
    "    stock_name = str(input('Enter the stock name: '))\n",
    "    stock_name = str(stock_name.upper()) # we want the stock name to be a string else throw an error\n",
    "\n",
    "    stock_data = yf.download(stock_name, start, end)\n",
    "    return stock_data, stock_name, start, end\n",
    "\n",
    "# calling the function\n",
    "stock_data, stock_name, start, end = fetch_stock_data()\n",
    "\n",
    "# saving the data to a csv and json files based on the stock name and the time period\n",
    "start_str = start.strftime('%Y-%m-%d')\n",
    "end_str = end.strftime('%Y-%m-%d')\n",
    "stock_data.to_csv(f'{stock_name.lower()}_stock_data_from_{start_str}_to_{end_str}.csv')\n",
    "stock_data.to_json(f'{stock_name.lower()}_stock_data_from_{start_str}_to_{end_str}.json')"
   ]
  },
  {
   "cell_type": "code",
   "execution_count": 2,
   "metadata": {},
   "outputs": [
    {
     "ename": "ModuleNotFoundError",
     "evalue": "No module named 'seaborn'",
     "output_type": "error",
     "traceback": [
      "\u001b[0;31m---------------------------------------------------------------------------\u001b[0m",
      "\u001b[0;31mModuleNotFoundError\u001b[0m                       Traceback (most recent call last)",
      "Cell \u001b[0;32mIn[2], line 2\u001b[0m\n\u001b[1;32m      1\u001b[0m \u001b[38;5;28;01mimport\u001b[39;00m \u001b[38;5;21;01mmatplotlib\u001b[39;00m\u001b[38;5;21;01m.\u001b[39;00m\u001b[38;5;21;01mpyplot\u001b[39;00m \u001b[38;5;28;01mas\u001b[39;00m \u001b[38;5;21;01mplt\u001b[39;00m\n\u001b[0;32m----> 2\u001b[0m \u001b[38;5;28;01mimport\u001b[39;00m \u001b[38;5;21;01mseaborn\u001b[39;00m \u001b[38;5;28;01mas\u001b[39;00m \u001b[38;5;21;01msns\u001b[39;00m\n\u001b[1;32m      3\u001b[0m sns\u001b[38;5;241m.\u001b[39mset_theme(style\u001b[38;5;241m=\u001b[39m\u001b[38;5;124m'\u001b[39m\u001b[38;5;124mticks\u001b[39m\u001b[38;5;124m'\u001b[39m)\n\u001b[1;32m      4\u001b[0m y_label \u001b[38;5;241m=\u001b[39m \u001b[38;5;124mf\u001b[39m\u001b[38;5;124m'\u001b[39m\u001b[38;5;132;01m{\u001b[39;00mstock_name\u001b[38;5;132;01m}\u001b[39;00m\u001b[38;5;124m Stock Price\u001b[39m\u001b[38;5;124m'\u001b[39m\n",
      "\u001b[0;31mModuleNotFoundError\u001b[0m: No module named 'seaborn'"
     ]
    }
   ],
   "source": [
    "import matplotlib.pyplot as plt\n",
    "import seaborn as sns\n",
    "sns.set_theme(style='ticks')\n",
    "y_label = f'{stock_name} Stock Price'\n",
    "plt.figure(figsize=(12, 6))\n",
    "plt.plot(stock_data['Close'], label='Close Price')\n",
    "plt.title(f'{stock_name} Stock Price from {start_str} to {end_str}')\n",
    "plt.xlabel('Date')\n",
    "plt.ylabel(y_label)\n",
    "plt.legend()\n",
    "plt.show()\n"
   ]
  }
 ],
 "metadata": {
  "kernelspec": {
   "display_name": "venv",
   "language": "python",
   "name": "python3"
  },
  "language_info": {
   "codemirror_mode": {
    "name": "ipython",
    "version": 3
   },
   "file_extension": ".py",
   "mimetype": "text/x-python",
   "name": "python",
   "nbconvert_exporter": "python",
   "pygments_lexer": "ipython3",
   "version": "3.12.1"
  }
 },
 "nbformat": 4,
 "nbformat_minor": 2
}
