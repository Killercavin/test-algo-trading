{
 "cells": [
  {
   "cell_type": "code",
   "execution_count": null,
   "metadata": {},
   "outputs": [],
   "source": [
    "#Fetching the data from yfinance\n",
    "\n",
    "import yfinance as yf\n",
    "import pandas as pd\n",
    "\n",
    "# getting data from yfinance using a function that takes in the stock name and the time period\n",
    "def fetch_stock_data():\n",
    "\n",
    "    # specifying the data types\n",
    "    start = input('Enter the start date in the format YYYY-MM-DD: ')\n",
    "    start = pd.to_datetime(start)\n",
    "    end = input('Enter the end date in the format YYYY-MM-DD: ')\n",
    "    end = pd.to_datetime(end)\n",
    "\n",
    "    stock_name = str(input('Enter the stock name: '))\n",
    "    stock_name = str(stock_name.upper()) # we want the stock name to be a string else throw an error\n",
    "\n",
    "    stock_data = yf.download(stock_name, start, end)\n",
    "    return stock_data\n",
    "\n",
    "# calling the function\n",
    "stock_data = fetch_stock_data()\n",
    "stock_data.to_csv('stock_data.csv')\n",
    "stock_data.to_json('stock_data.json')"
   ]
  }
 ],
 "metadata": {
  "kernelspec": {
   "display_name": "venv",
   "language": "python",
   "name": "python3"
  },
  "language_info": {
   "codemirror_mode": {
    "name": "ipython",
    "version": 3
   },
   "file_extension": ".py",
   "mimetype": "text/x-python",
   "name": "python",
   "nbconvert_exporter": "python",
   "pygments_lexer": "ipython3",
   "version": "3.13.0"
  }
 },
 "nbformat": 4,
 "nbformat_minor": 2
}
